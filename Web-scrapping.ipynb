{
 "cells": [
  {
   "cell_type": "code",
   "execution_count": 14,
   "metadata": {},
   "outputs": [
    {
     "name": "stdout",
     "output_type": "stream",
     "text": [
      "Dr Archana Krishnan\n",
      "DR ARUL RAJAN K\n",
      "DR Balasudarsun N L\n",
      "DR DEEPA R\n",
      "Mr Harish V \n",
      "DR JAGAJEEVAN R\n",
      "DR JOSHUA SELVAKUMAR J\n",
      "Mr Karthikeyan M S\n",
      "Mr KARTHIKEYAN L \n",
      "DR KAVITHA D\n",
      "Dr KRISHNAVENI R\n",
      "DR KRISHNAVENI MUTHIAH R\n",
      "Dr MANJU P GEORGE\n",
      "MR Manikandan S S\n",
      "DR MANSURALI A\n",
      "Ms Muthu Janaki\n",
      "Ms Rajeswari R\n",
      "DR RAMAN H\n",
      "Dr RAMKUMAR N\n",
      "DR SATHISH M\n",
      "DR SATHYANARAYANAN R S\n",
      "DR SEKKIZHAR J\n",
      " Dr Srigayathri Devi K\n",
      "Dr SRIVIDYA V\n",
      "DR SUJATHA R \n",
      "DR SUDHARANI RAVINDRAN D\n",
      "DR SWAMYNATHAN R\n",
      "DR THILAGAM V\n",
      "DR UMA MAHESWARI B\n",
      "DR UMESH CHANDRASEKHAR\n",
      "Dr VIJAYA T G\n",
      "DR VIVEK N\n"
     ]
    }
   ],
   "source": [
    "import requests \n",
    "from bs4 import BeautifulSoup\n",
    "#url to scrape for data\n",
    "URL=\"http://psgim.ac.in/2017/01/full-time-faculty/\"\n",
    "#if connection is successful\n",
    "if(requests.get(URL).status_code==200):\n",
    "    r=requests.get(URL)\n",
    "    #extract html and data inside the div tag\n",
    "    soup=BeautifulSoup(r.content,'html.parser') \n",
    "    staff=soup.findAll(\"div\",{\"class\":\"vc_column-inner\"}) \n",
    "    \n",
    "    for s in range(len(staff)): \n",
    "      #staff names are enclosed in h4 tags\n",
    "      if(staff[s].find('h4')):\n",
    "            #print staff\n",
    "            print(staff[s].find('h4').text)\n",
    "    \n",
    "    \n"
   ]
  },
  {
   "cell_type": "code",
   "execution_count": null,
   "metadata": {},
   "outputs": [],
   "source": []
  }
 ],
 "metadata": {
  "kernelspec": {
   "display_name": "Python 3",
   "language": "python",
   "name": "python3"
  },
  "language_info": {
   "codemirror_mode": {
    "name": "ipython",
    "version": 3
   },
   "file_extension": ".py",
   "mimetype": "text/x-python",
   "name": "python",
   "nbconvert_exporter": "python",
   "pygments_lexer": "ipython3",
   "version": "3.7.0"
  }
 },
 "nbformat": 4,
 "nbformat_minor": 2
}
